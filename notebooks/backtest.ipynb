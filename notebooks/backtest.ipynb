{
 "cells": [
  {
   "cell_type": "markdown",
   "metadata": {},
   "source": [
    "# Black-Scholes Risk Analysis - Demonstração\n",
    "\n",
    "Este notebook demonstra como usar as funções criadas para análise de risco de opções usando o modelo de Black-Scholes."
   ]
  },
  {
   "cell_type": "code",
   "execution_count": null,
   "metadata": {},
   "outputs": [],
   "source": [
    "import sys\n",
    "import os\n",
    "sys.path.append('../src')\n",
    "\n",
    "import pandas as pd\n",
    "import matplotlib.pyplot as plt\n",
    "from datetime import datetime\n",
    "\n",
    "from simulator import OptionSimulator"
   ]
  },
  {
   "cell_type": "markdown",
   "metadata": {},
   "source": [
    "## 1. Configuração dos Parâmetros"
   ]
  },
  {
   "cell_type": "code",
   "execution_count": null,
   "metadata": {},
   "outputs": [],
   "source": [
    "# Parâmetros da simulação\n",
    "ticker = \"PETR4.SA\"\n",
    "start_date = \"2023-01-01\"\n",
    "end_date = datetime.now().strftime('%Y-%m-%d')\n",
    "\n",
    "# Caminhos para os dados\n",
    "raw_path = \"../data/raw\"\n",
    "processed_path = \"../data/processed\"\n",
    "exports_path = \"../data/exports\""
   ]
  },
  {
   "cell_type": "markdown",
   "metadata": {},
   "source": [
    "## 2. Executando a Simulação"
   ]
  },
  {
   "cell_type": "code",
   "execution_count": null,
   "metadata": {},
   "outputs": [],
   "source": [
    "# Criar o simulador\n",
    "simulator = OptionSimulator(ticker, start_date, end_date, raw_path, processed_path, exports_path)\n",
    "\n",
    "# Executar a simulação\n",
    "df_results = simulator.load_and_process_data()\n",
    "\n",
    "print(f\"Dados processados: {len(df_results)} registros\")\n",
    "print(f\"Volatilidade anualizada: {simulator.sigma:.4f}\")\n",
    "df_results.head()"
   ]
  },
  {
   "cell_type": "markdown",
   "metadata": {},
   "source": [
    "## 3. Análise dos Resultados"
   ]
  },
  {
   "cell_type": "code",
   "execution_count": null,
   "metadata": {},
   "outputs": [],
   "source": [
    "# Estatísticas descritivas\n",
    "print(\"Estatísticas dos preços das opções:\")\n",
    "print(df_results[['Call_Price', 'Put_Price']].describe())"
   ]
  },
  {
   "cell_type": "markdown",
   "metadata": {},
   "source": [
    "## 4. Visualizações"
   ]
  },
  {
   "cell_type": "code",
   "execution_count": null,
   "metadata": {},
   "outputs": [],
   "source": [
    "# Converter a coluna Date para datetime\n",
    "df_results['Date'] = pd.to_datetime(df_results['Date'])\n",
    "\n",
    "# Gráfico 1: Preços das opções ao longo do tempo\n",
    "plt.figure(figsize=(12, 8))\n",
    "\n",
    "plt.subplot(2, 2, 1)\n",
    "plt.plot(df_results['Date'], df_results['Stock_Price'], label='Preço da Ação', color='blue')\n",
    "plt.plot(df_results['Date'], df_results['Call_Price'], label='Preço Call', color='green')\n",
    "plt.plot(df_results['Date'], df_results['Put_Price'], label='Preço Put', color='red')\n",
    "plt.title('Preços ao Longo do Tempo')\n",
    "plt.xlabel('Data')\n",
    "plt.ylabel('Preço (R$)')\n",
    "plt.legend()\n",
    "plt.xticks(rotation=45)\n",
    "\n",
    "# Gráfico 2: Delta das opções\n",
    "plt.subplot(2, 2, 2)\n",
    "plt.plot(df_results['Date'], df_results['Delta_Call'], label='Delta Call', color='green')\n",
    "plt.plot(df_results['Date'], df_results['Delta_Put'], label='Delta Put', color='red')\n",
    "plt.title('Delta das Opções')\n",
    "plt.xlabel('Data')\n",
    "plt.ylabel('Delta')\n",
    "plt.legend()\n",
    "plt.xticks(rotation=45)\n",
    "\n",
    "# Gráfico 3: Gamma e Vega\n",
    "plt.subplot(2, 2, 3)\n",
    "plt.plot(df_results['Date'], df_results['Gamma'], label='Gamma', color='purple')\n",
    "plt.title('Gamma das Opções')\n",
    "plt.xlabel('Data')\n",
    "plt.ylabel('Gamma')\n",
    "plt.legend()\n",
    "plt.xticks(rotation=45)\n",
    "\n",
    "# Gráfico 4: Theta\n",
    "plt.subplot(2, 2, 4)\n",
    "plt.plot(df_results['Date'], df_results['Theta_Call'], label='Theta Call', color='orange')\n",
    "plt.plot(df_results['Date'], df_results['Theta_Put'], label='Theta Put', color='brown')\n",
    "plt.title('Theta das Opções')\n",
    "plt.xlabel('Data')\n",
    "plt.ylabel('Theta')\n",
    "plt.legend()\n",
    "plt.xticks(rotation=45)\n",
    "\n",
    "plt.tight_layout()\n",
    "plt.savefig('../reports/options_analysis.png', dpi=300, bbox_inches='tight')\n",
    "plt.show()"
   ]
  },
  {
   "cell_type": "markdown",
   "metadata": {},
   "source": [
    "## 5. Exportação para Power BI"
   ]
  },
  {
   "cell_type": "code",
   "execution_count": null,
   "metadata": {},
   "outputs": [],
   "source": [
    "# Verificar se os dados foram exportados corretamente\n",
    "export_file = f\"../data/exports/{ticker.replace('.SA', '')}_options_data.csv\"\n",
    "if os.path.exists(export_file):\n",
    "    print(f\"✅ Arquivo exportado com sucesso: {export_file}\")\n",
    "    print(f\"Tamanho do arquivo: {os.path.getsize(export_file)} bytes\")\n",
    "else:\n",
    "    print(\"❌ Erro na exportação do arquivo\")"
   ]
  },
  {
   "cell_type": "markdown",
   "metadata": {},
   "source": [
    "## 6. Resumo dos Resultados"
   ]
  },
  {
   "cell_type": "code",
   "execution_count": null,
   "metadata": {},
   "outputs": [],
   "source": [
    "print(\"=== RESUMO DA ANÁLISE ===\")\n",
    "print(f\"Ticker analisado: {ticker}\")\n",
    "print(f\"Período: {start_date} a {end_date}\")\n",
    "print(f\"Total de observações: {len(df_results)}\")\n",
    "print(f\"Volatilidade anualizada: {simulator.sigma:.2%}\")\n",
    "print(f\"Taxa de juros utilizada: {simulator.r:.2%}\")\n",
    "print(f\"Prazo das opções: {simulator.maturity_days} dias\")\n",
    "print(\"\\nPreços médios das opções:\")\n",
    "print(f\"Call: R$ {df_results['Call_Price'].mean():.2f}\")\n",
    "print(f\"Put: R$ {df_results['Put_Price'].mean():.2f}\")\n",
    "print(\"\\nGregas médias:\")\n",
    "print(f\"Delta Call: {df_results['Delta_Call'].mean():.4f}\")\n",
    "print(f\"Delta Put: {df_results['Delta_Put'].mean():.4f}\")\n",
    "print(f\"Gamma: {df_results['Gamma'].mean():.6f}\")\n",
    "print(f\"Vega: {df_results['Vega'].mean():.4f}\")"
   ]
  }
 ],
 "metadata": {
  "kernelspec": {
   "display_name": "Python 3",
   "language": "python",
   "name": "python3"
  },
  "language_info": {
   "codemirror_mode": {
    "name": "ipython",
    "version": 3
   },
   "file_extension": ".py",
   "mimetype": "text/x-python",
   "name": "python",
   "nbconvert_exporter": "python",
   "pygments_lexer": "ipython3",
   "version": "3.11.0"
  }
 },
 "nbformat": 4,
 "nbformat_minor": 4
}

